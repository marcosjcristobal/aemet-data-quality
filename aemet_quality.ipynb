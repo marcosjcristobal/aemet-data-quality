# AEMET Data Quality — Proyecto de Calidad de Datos Meteorológicos

Este proyecto demuestra un flujo de trabajo de **calidad de datos** aplicable a estaciones meteorológicas, usando Python.

Incluye:
- Limpieza y tratamiento de valores nulos
- Detección de *outliers* estadísticos (*z-score*)
- Validación contra límites físicos
- Cálculo de KPIs clave
- Detección de *sensor drift* con media móvil
- Visualización de series temporales

> Datos simulados a partir de un CSV de ejemplo.


### Imports y carga de datos
import pandas as pd
from src.data_utils import (
    load_sample_csv, remove_duplicates, handle_missing,
    detect_outliers_zscore, compute_kpis
)
from src.quality_checks import flag_physical_limits, flag_sensor_drift
from src.plotting import plot_timeseries

# Cargar datos crudos
df = load_sample_csv('data/raw/sample_measurements.csv')
df.head()



### Limpieza de duplicados y nulos
# Eliminar duplicados y tratar valores nulos mediante interpolación dado que trabajamos con huecos pequeños y variables con gradiente poco agresivo
df = remove_duplicates(df)
df = handle_missing(df, method='interpolate')
df.head()


### Detección de Outliers y límites físicos
# Outliers estadísticos (z-score) Son valores alejados de lo esperado desde el punto de vista estadístico
df = detect_outliers_zscore(df, cols=['temp','hum','wind','rain'], z=3.0)

# Validación contra límites físicos, por ejemplo, humedades negativas
df = flag_physical_limits(df)

df.filter(like='flag_').head()


### Detección sensor Drift
# Sensor drift con media móvil de 3 medidas y umbral de 2.0
df = flag_sensor_drift(df, col='temp', window=3, drift_threshold=2.0)

# Contar flags
phys_cols = [c for c in df.columns if c.startswith('flag_phys_')]
drift_cols = [c for c in df.columns if c.startswith('flag_drift_')]

{
    "flags_fisicos": {c: int(df[c].sum()) for c in phys_cols},
    "flags_drift": {c: int(df[c].sum()) for c in drift_cols}
}


### KPIs de Calidad
# KPIs como % de valores válidos y racha máxima de nulos ayudan a monitorizar la salud del sistema.
kpis = compute_kpis(df, ['temp','hum','wind','rain'])
pd.DataFrame([kpis])


### Visualización y guardado

plot_timeseries(df, 'temp', title='Temperatura – estación CBA001')

df.to_csv('data/processed/sample_measurements_clean.csv', index=False)
len(df), df.tail(3)


### Este último CSV ya limpio sería la entrada para otros sistemas como BI o SQL

