{
 "cells": [
  {
   "cell_type": "markdown",
   "id": "387ec4d5",
   "metadata": {},
   "source": [
    "# AEMET Data Quality — Proyecto de Calidad de Datos Meteorológicos\n",
    "\n",
    "Este proyecto demuestra un flujo de trabajo de **calidad de datos** aplicable a estaciones meteorológicas, usando Python.\n",
    "\n",
    "Incluye:\n",
    "- Limpieza y tratamiento de valores nulos\n",
    "- Detección de *outliers* estadísticos (*z-score*)\n",
    "- Validación contra límites físicos\n",
    "- Cálculo de KPIs clave\n",
    "- Detección de *sensor drift* con media móvil\n",
    "- Visualización de series temporales\n",
    "\n",
    "> Datos simulados a partir de un CSV de ejemplo.\n"
   ]
  },
  {
   "cell_type": "code",
   "execution_count": 12,
   "id": "094f4fe9",
   "metadata": {},
   "outputs": [
    {
     "name": "stdout",
     "output_type": "stream",
     "text": [
      "Project root in sys.path: True\n"
     ]
    }
   ],
   "source": [
    "# Hacer visible el código del proyecto al notebook\n",
    "import os, sys\n",
    "\n",
    "# Ruta al directorio raíz del proyecto (padre de 'notebooks')\n",
    "PROJECT_ROOT = os.path.abspath(os.path.join(os.getcwd(), \"..\"))\n",
    "if PROJECT_ROOT not in sys.path:\n",
    "    sys.path.insert(0, PROJECT_ROOT)\n",
    "\n",
    "print(\"Project root in sys.path:\", PROJECT_ROOT in sys.path)\n"
   ]
  },
  {
   "cell_type": "code",
   "execution_count": 13,
   "id": "ad33b166",
   "metadata": {},
   "outputs": [
    {
     "data": {
      "text/html": [
       "<div>\n",
       "<style scoped>\n",
       "    .dataframe tbody tr th:only-of-type {\n",
       "        vertical-align: middle;\n",
       "    }\n",
       "\n",
       "    .dataframe tbody tr th {\n",
       "        vertical-align: top;\n",
       "    }\n",
       "\n",
       "    .dataframe thead th {\n",
       "        text-align: right;\n",
       "    }\n",
       "</style>\n",
       "<table border=\"1\" class=\"dataframe\">\n",
       "  <thead>\n",
       "    <tr style=\"text-align: right;\">\n",
       "      <th></th>\n",
       "      <th>timestamp</th>\n",
       "      <th>station_id</th>\n",
       "      <th>temp</th>\n",
       "      <th>hum</th>\n",
       "      <th>wind</th>\n",
       "      <th>rain</th>\n",
       "    </tr>\n",
       "  </thead>\n",
       "  <tbody>\n",
       "    <tr>\n",
       "      <th>0</th>\n",
       "      <td>2023-01-01 00:00:00</td>\n",
       "      <td>CBA001</td>\n",
       "      <td>14.2</td>\n",
       "      <td>60.5</td>\n",
       "      <td>3.2</td>\n",
       "      <td>0.0</td>\n",
       "    </tr>\n",
       "    <tr>\n",
       "      <th>1</th>\n",
       "      <td>2023-01-01 01:00:00</td>\n",
       "      <td>CBA001</td>\n",
       "      <td>13.9</td>\n",
       "      <td>59.8</td>\n",
       "      <td>4.1</td>\n",
       "      <td>0.0</td>\n",
       "    </tr>\n",
       "    <tr>\n",
       "      <th>2</th>\n",
       "      <td>2023-01-01 02:00:00</td>\n",
       "      <td>CBA001</td>\n",
       "      <td>13.4</td>\n",
       "      <td>61.1</td>\n",
       "      <td>3.8</td>\n",
       "      <td>0.0</td>\n",
       "    </tr>\n",
       "    <tr>\n",
       "      <th>3</th>\n",
       "      <td>2023-01-01 03:00:00</td>\n",
       "      <td>CBA001</td>\n",
       "      <td>80.0</td>\n",
       "      <td>62.0</td>\n",
       "      <td>3.7</td>\n",
       "      <td>0.0</td>\n",
       "    </tr>\n",
       "    <tr>\n",
       "      <th>4</th>\n",
       "      <td>2023-01-01 04:00:00</td>\n",
       "      <td>CBA001</td>\n",
       "      <td>NaN</td>\n",
       "      <td>63.2</td>\n",
       "      <td>4.5</td>\n",
       "      <td>0.1</td>\n",
       "    </tr>\n",
       "  </tbody>\n",
       "</table>\n",
       "</div>"
      ],
      "text/plain": [
       "            timestamp station_id  temp   hum  wind  rain\n",
       "0 2023-01-01 00:00:00     CBA001  14.2  60.5   3.2   0.0\n",
       "1 2023-01-01 01:00:00     CBA001  13.9  59.8   4.1   0.0\n",
       "2 2023-01-01 02:00:00     CBA001  13.4  61.1   3.8   0.0\n",
       "3 2023-01-01 03:00:00     CBA001  80.0  62.0   3.7   0.0\n",
       "4 2023-01-01 04:00:00     CBA001   NaN  63.2   4.5   0.1"
      ]
     },
     "execution_count": 13,
     "metadata": {},
     "output_type": "execute_result"
    }
   ],
   "source": [
    "import pandas as pd\n",
    "from src.data_utils import (\n",
    "    load_sample_csv, remove_duplicates, handle_missing,\n",
    "    detect_outliers_zscore, compute_kpis\n",
    ")\n",
    "from src.quality_checks import flag_physical_limits, flag_sensor_drift\n",
    "from src.plotting import plot_timeseries\n",
    "\n",
    "df = load_sample_csv('../data/raw/sample_measurements.csv')\n",
    "df.head()\n"
   ]
  },
  {
   "cell_type": "code",
   "execution_count": 14,
   "id": "334ec380",
   "metadata": {},
   "outputs": [
    {
     "data": {
      "text/html": [
       "<div>\n",
       "<style scoped>\n",
       "    .dataframe tbody tr th:only-of-type {\n",
       "        vertical-align: middle;\n",
       "    }\n",
       "\n",
       "    .dataframe tbody tr th {\n",
       "        vertical-align: top;\n",
       "    }\n",
       "\n",
       "    .dataframe thead th {\n",
       "        text-align: right;\n",
       "    }\n",
       "</style>\n",
       "<table border=\"1\" class=\"dataframe\">\n",
       "  <thead>\n",
       "    <tr style=\"text-align: right;\">\n",
       "      <th></th>\n",
       "      <th>flag_out_temp</th>\n",
       "      <th>flag_out_hum</th>\n",
       "      <th>flag_out_wind</th>\n",
       "      <th>flag_out_rain</th>\n",
       "      <th>flag_phys_temp</th>\n",
       "      <th>flag_phys_hum</th>\n",
       "      <th>flag_phys_wind</th>\n",
       "      <th>flag_phys_rain</th>\n",
       "      <th>flag_drift_temp</th>\n",
       "    </tr>\n",
       "  </thead>\n",
       "  <tbody>\n",
       "    <tr>\n",
       "      <th>0</th>\n",
       "      <td>0</td>\n",
       "      <td>0</td>\n",
       "      <td>0</td>\n",
       "      <td>0</td>\n",
       "      <td>False</td>\n",
       "      <td>False</td>\n",
       "      <td>False</td>\n",
       "      <td>False</td>\n",
       "      <td>0</td>\n",
       "    </tr>\n",
       "    <tr>\n",
       "      <th>1</th>\n",
       "      <td>0</td>\n",
       "      <td>0</td>\n",
       "      <td>0</td>\n",
       "      <td>0</td>\n",
       "      <td>False</td>\n",
       "      <td>False</td>\n",
       "      <td>False</td>\n",
       "      <td>False</td>\n",
       "      <td>0</td>\n",
       "    </tr>\n",
       "    <tr>\n",
       "      <th>2</th>\n",
       "      <td>0</td>\n",
       "      <td>0</td>\n",
       "      <td>0</td>\n",
       "      <td>0</td>\n",
       "      <td>False</td>\n",
       "      <td>False</td>\n",
       "      <td>False</td>\n",
       "      <td>False</td>\n",
       "      <td>0</td>\n",
       "    </tr>\n",
       "    <tr>\n",
       "      <th>3</th>\n",
       "      <td>0</td>\n",
       "      <td>0</td>\n",
       "      <td>0</td>\n",
       "      <td>0</td>\n",
       "      <td>True</td>\n",
       "      <td>False</td>\n",
       "      <td>False</td>\n",
       "      <td>False</td>\n",
       "      <td>1</td>\n",
       "    </tr>\n",
       "    <tr>\n",
       "      <th>4</th>\n",
       "      <td>0</td>\n",
       "      <td>0</td>\n",
       "      <td>0</td>\n",
       "      <td>0</td>\n",
       "      <td>False</td>\n",
       "      <td>False</td>\n",
       "      <td>False</td>\n",
       "      <td>False</td>\n",
       "      <td>1</td>\n",
       "    </tr>\n",
       "  </tbody>\n",
       "</table>\n",
       "</div>"
      ],
      "text/plain": [
       "   flag_out_temp  flag_out_hum  flag_out_wind  flag_out_rain  flag_phys_temp  \\\n",
       "0              0             0              0              0           False   \n",
       "1              0             0              0              0           False   \n",
       "2              0             0              0              0           False   \n",
       "3              0             0              0              0            True   \n",
       "4              0             0              0              0           False   \n",
       "\n",
       "   flag_phys_hum  flag_phys_wind  flag_phys_rain  flag_drift_temp  \n",
       "0          False           False           False                0  \n",
       "1          False           False           False                0  \n",
       "2          False           False           False                0  \n",
       "3          False           False           False                1  \n",
       "4          False           False           False                1  "
      ]
     },
     "execution_count": 14,
     "metadata": {},
     "output_type": "execute_result"
    }
   ],
   "source": [
    "# Eliminar duplicados y tratar valores nulos mediante interpolación\n",
    "df = remove_duplicates(df)\n",
    "df = handle_missing(df, method='interpolate')\n",
    "\n",
    "# Outliers estadísticos (z-score)\n",
    "df = detect_outliers_zscore(df, cols=['temp','hum','wind','rain'], z=3.0)\n",
    "\n",
    "# Validación contra límites físicos\n",
    "df = flag_physical_limits(df)\n",
    "\n",
    "# Sensor drift con media móvil (ventana corta para el ejemplo)\n",
    "df = flag_sensor_drift(df, col='temp', window=3, drift_threshold=2.0)\n",
    "\n",
    "# Ver columnas de banderas\n",
    "df.filter(like='flag_').head()\n"
   ]
  },
  {
   "cell_type": "code",
   "execution_count": 15,
   "id": "8764e218",
   "metadata": {},
   "outputs": [
    {
     "data": {
      "text/html": [
       "<div>\n",
       "<style scoped>\n",
       "    .dataframe tbody tr th:only-of-type {\n",
       "        vertical-align: middle;\n",
       "    }\n",
       "\n",
       "    .dataframe tbody tr th {\n",
       "        vertical-align: top;\n",
       "    }\n",
       "\n",
       "    .dataframe thead th {\n",
       "        text-align: right;\n",
       "    }\n",
       "</style>\n",
       "<table border=\"1\" class=\"dataframe\">\n",
       "  <thead>\n",
       "    <tr style=\"text-align: right;\">\n",
       "      <th></th>\n",
       "      <th>valid_pct_temp</th>\n",
       "      <th>max_nan_run_temp</th>\n",
       "      <th>valid_pct_hum</th>\n",
       "      <th>max_nan_run_hum</th>\n",
       "      <th>valid_pct_wind</th>\n",
       "      <th>max_nan_run_wind</th>\n",
       "      <th>valid_pct_rain</th>\n",
       "      <th>max_nan_run_rain</th>\n",
       "    </tr>\n",
       "  </thead>\n",
       "  <tbody>\n",
       "    <tr>\n",
       "      <th>0</th>\n",
       "      <td>100.0</td>\n",
       "      <td>0</td>\n",
       "      <td>100.0</td>\n",
       "      <td>0</td>\n",
       "      <td>100.0</td>\n",
       "      <td>0</td>\n",
       "      <td>100.0</td>\n",
       "      <td>0</td>\n",
       "    </tr>\n",
       "  </tbody>\n",
       "</table>\n",
       "</div>"
      ],
      "text/plain": [
       "   valid_pct_temp  max_nan_run_temp  valid_pct_hum  max_nan_run_hum  \\\n",
       "0           100.0                 0          100.0                0   \n",
       "\n",
       "   valid_pct_wind  max_nan_run_wind  valid_pct_rain  max_nan_run_rain  \n",
       "0           100.0                 0           100.0                 0  "
      ]
     },
     "execution_count": 15,
     "metadata": {},
     "output_type": "execute_result"
    }
   ],
   "source": [
    "kpis = compute_kpis(df, ['temp','hum','wind','rain'])\n",
    "import pandas as pd\n",
    "pd.DataFrame([kpis])\n"
   ]
  },
  {
   "cell_type": "code",
   "execution_count": 16,
   "id": "3c48b6bb",
   "metadata": {},
   "outputs": [
    {
     "data": {
      "text/plain": [
       "{'flags_fisicos': {'flag_phys_temp': 1,\n",
       "  'flag_phys_hum': 1,\n",
       "  'flag_phys_wind': 0,\n",
       "  'flag_phys_rain': 0},\n",
       " 'flags_drift': {'flag_drift_temp': 4}}"
      ]
     },
     "execution_count": 16,
     "metadata": {},
     "output_type": "execute_result"
    }
   ],
   "source": [
    "phys_cols = [c for c in df.columns if c.startswith('flag_phys_')]\n",
    "drift_cols = [c for c in df.columns if c.startswith('flag_drift_')]\n",
    "{\n",
    "    \"flags_fisicos\": {c: int(df[c].sum()) for c in phys_cols},\n",
    "    \"flags_drift\":   {c: int(df[c].sum()) for c in drift_cols}\n",
    "}\n"
   ]
  },
  {
   "cell_type": "code",
   "execution_count": 17,
   "id": "1ba673b8",
   "metadata": {},
   "outputs": [
    {
     "data": {
      "image/png": "[encoded data removed]",
      "text/plain": [
       "<Figure size 640x480 with 1 Axes>"
      ]
     },
     "metadata": {},
     "output_type": "display_data"
    }
   ],
   "source": [
    "plot_timeseries(df, 'temp', title='Temperatura – estación CBA001')"
   ]
  },
  {
   "cell_type": "code",
   "execution_count": 18,
   "id": "10f46479",
   "metadata": {},
   "outputs": [
    {
     "data": {
      "text/plain": [
       "(8,\n",
       " 'c:\\\\Users\\\\Marcos\\\\aemet-data-quality\\\\data\\\\processed\\\\sample_measurements_clean.csv')"
      ]
     },
     "execution_count": 18,
     "metadata": {},
     "output_type": "execute_result"
    }
   ],
   "source": [
    "out_path = os.path.join(PROJECT_ROOT, \"data\", \"processed\", \"sample_measurements_clean.csv\")\n",
    "df.to_csv(out_path, index=False)\n",
    "len(df), out_path\n"
   ]
  }
 ],
 "metadata": {
  "kernelspec": {
   "display_name": ".venv (3.13.7)",
   "language": "python",
   "name": "python3"
  },
  "language_info": {
   "codemirror_mode": {
    "name": "ipython",
    "version": 3
   },
   "file_extension": ".py",
   "mimetype": "text/x-python",
   "name": "python",
   "nbconvert_exporter": "python",
   "pygments_lexer": "ipython3",
   "version": "3.13.7"
  }
 },
 "nbformat": 4,
 "nbformat_minor": 5
}
